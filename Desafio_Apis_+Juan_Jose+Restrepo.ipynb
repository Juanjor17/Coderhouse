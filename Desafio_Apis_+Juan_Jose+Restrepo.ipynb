{
  "nbformat": 4,
  "nbformat_minor": 0,
  "metadata": {
    "colab": {
      "provenance": []
    },
    "kernelspec": {
      "name": "python3",
      "display_name": "Python 3"
    },
    "language_info": {
      "name": "python"
    }
  },
  "cells": [
    {
      "cell_type": "code",
      "execution_count": 1,
      "metadata": {
        "id": "pLLqooL1ylTC"
      },
      "outputs": [],
      "source": [
        "import requests\n",
        "import json\n",
        "import pandas as pd"
      ]
    },
    {
      "cell_type": "code",
      "source": [
        "url = 'https://parallelum.com.br/fipe/api/v1/motos/marcas'\n",
        "\n",
        "respuesta = requests.get(url)\n",
        "\n",
        "print (respuesta)"
      ],
      "metadata": {
        "colab": {
          "base_uri": "https://localhost:8080/"
        },
        "id": "Xjq82ttMyz-p",
        "outputId": "0ec81a7b-8d8a-4672-a702-4fa9e0eeb341"
      },
      "execution_count": 10,
      "outputs": [
        {
          "output_type": "stream",
          "name": "stdout",
          "text": [
            "<Response [200]>\n"
          ]
        }
      ]
    },
    {
      "cell_type": "markdown",
      "source": [],
      "metadata": {
        "id": "2i1iJzV-0Bk_"
      }
    },
    {
      "cell_type": "code",
      "source": [
        "respuesta.text"
      ],
      "metadata": {
        "colab": {
          "base_uri": "https://localhost:8080/",
          "height": 128
        },
        "id": "nOiW8uJCzZKR",
        "outputId": "f8ed7499-0823-4c26-9b97-413abd3ec559"
      },
      "execution_count": 11,
      "outputs": [
        {
          "output_type": "execute_result",
          "data": {
            "text/plain": [
              "'[{\"codigo\":\"60\",\"nome\":\"ADLY\"},{\"codigo\":\"61\",\"nome\":\"AGRALE\"},{\"codigo\":\"131\",\"nome\":\"AMAZONAS\"},{\"codigo\":\"62\",\"nome\":\"APRILIA\"},{\"codigo\":\"63\",\"nome\":\"ATALA\"},{\"codigo\":\"216\",\"nome\":\"AVELLOZ\"},{\"codigo\":\"64\",\"nome\":\"BAJAJ\"},{\"codigo\":\"205\",\"nome\":\"BEE\"},{\"codigo\":\"162\",\"nome\":\"Benelli\"},{\"codigo\":\"65\",\"nome\":\"BETA\"},{\"codigo\":\"66\",\"nome\":\"BIMOTA\"},{\"codigo\":\"67\",\"nome\":\"BMW\"},{\"codigo\":\"68\",\"nome\":\"BRANDY\"},{\"codigo\":\"130\",\"nome\":\"BRAVA\"},{\"codigo\":\"150\",\"nome\":\"BRP\"},{\"codigo\":\"117\",\"nome\":\"BUELL\"},{\"codigo\":\"155\",\"nome\":\"BUENO\"},{\"codigo\":\"212\",\"nome\":\"BULL\"},{\"codigo\":\"69\",\"nome\":\"byCristo\"},{\"codigo\":\"70\",\"nome\":\"CAGIVA\"},{\"codigo\":\"71\",\"nome\":\"CALOI\"},{\"codigo\":\"72\",\"nome\":\"DAELIM\"},{\"codigo\":\"145\",\"nome\":\"DAFRA\"},{\"codigo\":\"137\",\"nome\":\"DAYANG\"},{\"codigo\":\"142\",\"nome\":\"DAYUN\"},{\"codigo\":\"73\",\"nome\":\"DERBI\"},{\"codigo\":\"74\",\"nome\":\"DUCATI\"},{\"codigo\":\"75\",\"nome\":\"EMME\"},{\"codigo\":\"132\",\"nome\":\"FOX\"},{\"codigo\":\"209\",\"nome\":\"FUSCO MOTOSEGURA\"},{\"codigo\":\"128\",\"nome\":\"FYM\"},{\"codigo\":\"143\",\"nome\":\"GARINNI\"},{\"codigo\":\"76\",\"nome\":\"GAS GAS\"},{\"codigo\":\"133\",\"nome\":\"GREEN\"},{\"codigo\":\"138\",\"nome\":\"HAOBAO\"},{\"codigo\":\"203\",\"nome\":\"HAOJUE\"},{\"codigo\":\"77\",\"nome\":\"HARLEY-DAVIDSON\"},{\"codigo\":\"78\",\"nome\":\"HARTFORD\"},{\"codigo\":\"79\",\"nome\":\"HERO\"},{\"codigo\":\"80\",\"nome\":\"HONDA\"},{\"codigo\":\"81\",\"nome\":\"HUSABERG\"},{\"codigo\":\"82\",\"nome\":\"HUSQVARNA\"},{\"codigo\":\"202\",\"nome\":\"INDIAN\"},{\"codigo\":\"158\",\"nome\":\"IROS\"},{\"codigo\":\"141\",\"nome\":\"JIAPENG VOLCANO\"},{\"codigo\":\"174\",\"nome\":\"JOHNNYPAG\"},{\"codigo\":\"151\",\"nome\":\"JONNY\"},{\"codigo\":\"129\",\"nome\":\"KAHENA\"},{\"codigo\":\"118\",\"nome\":\"KASINSKI\"},{\"codigo\":\"85\",\"nome\":\"KAWASAKI\"},{\"codigo\":\"87\",\"nome\":\"KTM\"},{\"codigo\":\"204\",\"nome\":\"KYMCO\"},{\"codigo\":\"159\",\"nome\":\"LANDUM\"},{\"codigo\":\"88\",\"nome\":\"L\\'AQUILA\"},{\"codigo\":\"89\",\"nome\":\"LAVRALE\"},{\"codigo\":\"139\",\"nome\":\"LERIVO\"},{\"codigo\":\"178\",\"nome\":\"LIFAN\"},{\"codigo\":\"148\",\"nome\":\"Lon-V\"},{\"codigo\":\"175\",\"nome\":\"MAGRÃO TRICICLOS\"},{\"codigo\":\"146\",\"nome\":\"Malaguti\"},{\"codigo\":\"126\",\"nome\":\"MIZA\"},{\"codigo\":\"90\",\"nome\":\"MOTO GUZZI\"},{\"codigo\":\"201\",\"nome\":\"MOTOCAR\"},{\"codigo\":\"200\",\"nome\":\"MOTORINO\"},{\"codigo\":\"160\",\"nome\":\"MRX\"},{\"codigo\":\"91\",\"nome\":\"MV AGUSTA\"},{\"codigo\":\"92\",\"nome\":\"MVK\"},{\"codigo\":\"239\",\"nome\":\"NIU\"},{\"codigo\":\"93\",\"nome\":\"ORCA\"},{\"codigo\":\"164\",\"nome\":\"PEGASSI\"},{\"codigo\":\"94\",\"nome\":\"PEUGEOT\"},{\"codigo\":\"95\",\"nome\":\"PIAGGIO\"},{\"codigo\":\"210\",\"nome\":\"POLARIS\"},{\"codigo\":\"173\",\"nome\":\"REGAL RAPTOR\"},{\"codigo\":\"198\",\"nome\":\"RIGUETE\"},{\"codigo\":\"192\",\"nome\":\"Royal Enfield\"},{\"codigo\":\"96\",\"nome\":\"SANYANG\"},{\"codigo\":\"134\",\"nome\":\"SHINERAY\"},{\"codigo\":\"97\",\"nome\":\"SIAMOTO\"},{\"codigo\":\"98\",\"nome\":\"SUNDOWN\"},{\"codigo\":\"237\",\"nome\":\"SUPER SOCO\"},{\"codigo\":\"99\",\"nome\":\"SUZUKI\"},{\"codigo\":\"176\",\"nome\":\"TARGOS\"},{\"codigo\":\"187\",\"nome\":\"TIGER\"},{\"codigo\":\"119\",\"nome\":\"TRAXX\"},{\"codigo\":\"100\",\"nome\":\"TRIUMPH\"},{\"codigo\":\"180\",\"nome\":\"VENTO\"},{\"codigo\":\"215\",\"nome\":\"VOLTZ\"},{\"codigo\":\"135\",\"nome\":\"WUYANG\"},{\"codigo\":\"101\",\"nome\":\"YAMAHA\"}]'"
            ],
            "application/vnd.google.colaboratory.intrinsic+json": {
              "type": "string"
            }
          },
          "metadata": {},
          "execution_count": 11
        }
      ]
    },
    {
      "cell_type": "code",
      "source": [
        "texto = respuesta.text\n",
        "\n",
        "json.loads(texto)"
      ],
      "metadata": {
        "colab": {
          "base_uri": "https://localhost:8080/"
        },
        "id": "3oWHXaao0oEA",
        "outputId": "13b03742-31e9-4667-de74-7c73861338f9"
      },
      "execution_count": 13,
      "outputs": [
        {
          "output_type": "execute_result",
          "data": {
            "text/plain": [
              "[{'codigo': '60', 'nome': 'ADLY'},\n",
              " {'codigo': '61', 'nome': 'AGRALE'},\n",
              " {'codigo': '131', 'nome': 'AMAZONAS'},\n",
              " {'codigo': '62', 'nome': 'APRILIA'},\n",
              " {'codigo': '63', 'nome': 'ATALA'},\n",
              " {'codigo': '216', 'nome': 'AVELLOZ'},\n",
              " {'codigo': '64', 'nome': 'BAJAJ'},\n",
              " {'codigo': '205', 'nome': 'BEE'},\n",
              " {'codigo': '162', 'nome': 'Benelli'},\n",
              " {'codigo': '65', 'nome': 'BETA'},\n",
              " {'codigo': '66', 'nome': 'BIMOTA'},\n",
              " {'codigo': '67', 'nome': 'BMW'},\n",
              " {'codigo': '68', 'nome': 'BRANDY'},\n",
              " {'codigo': '130', 'nome': 'BRAVA'},\n",
              " {'codigo': '150', 'nome': 'BRP'},\n",
              " {'codigo': '117', 'nome': 'BUELL'},\n",
              " {'codigo': '155', 'nome': 'BUENO'},\n",
              " {'codigo': '212', 'nome': 'BULL'},\n",
              " {'codigo': '69', 'nome': 'byCristo'},\n",
              " {'codigo': '70', 'nome': 'CAGIVA'},\n",
              " {'codigo': '71', 'nome': 'CALOI'},\n",
              " {'codigo': '72', 'nome': 'DAELIM'},\n",
              " {'codigo': '145', 'nome': 'DAFRA'},\n",
              " {'codigo': '137', 'nome': 'DAYANG'},\n",
              " {'codigo': '142', 'nome': 'DAYUN'},\n",
              " {'codigo': '73', 'nome': 'DERBI'},\n",
              " {'codigo': '74', 'nome': 'DUCATI'},\n",
              " {'codigo': '75', 'nome': 'EMME'},\n",
              " {'codigo': '132', 'nome': 'FOX'},\n",
              " {'codigo': '209', 'nome': 'FUSCO MOTOSEGURA'},\n",
              " {'codigo': '128', 'nome': 'FYM'},\n",
              " {'codigo': '143', 'nome': 'GARINNI'},\n",
              " {'codigo': '76', 'nome': 'GAS GAS'},\n",
              " {'codigo': '133', 'nome': 'GREEN'},\n",
              " {'codigo': '138', 'nome': 'HAOBAO'},\n",
              " {'codigo': '203', 'nome': 'HAOJUE'},\n",
              " {'codigo': '77', 'nome': 'HARLEY-DAVIDSON'},\n",
              " {'codigo': '78', 'nome': 'HARTFORD'},\n",
              " {'codigo': '79', 'nome': 'HERO'},\n",
              " {'codigo': '80', 'nome': 'HONDA'},\n",
              " {'codigo': '81', 'nome': 'HUSABERG'},\n",
              " {'codigo': '82', 'nome': 'HUSQVARNA'},\n",
              " {'codigo': '202', 'nome': 'INDIAN'},\n",
              " {'codigo': '158', 'nome': 'IROS'},\n",
              " {'codigo': '141', 'nome': 'JIAPENG VOLCANO'},\n",
              " {'codigo': '174', 'nome': 'JOHNNYPAG'},\n",
              " {'codigo': '151', 'nome': 'JONNY'},\n",
              " {'codigo': '129', 'nome': 'KAHENA'},\n",
              " {'codigo': '118', 'nome': 'KASINSKI'},\n",
              " {'codigo': '85', 'nome': 'KAWASAKI'},\n",
              " {'codigo': '87', 'nome': 'KTM'},\n",
              " {'codigo': '204', 'nome': 'KYMCO'},\n",
              " {'codigo': '159', 'nome': 'LANDUM'},\n",
              " {'codigo': '88', 'nome': \"L'AQUILA\"},\n",
              " {'codigo': '89', 'nome': 'LAVRALE'},\n",
              " {'codigo': '139', 'nome': 'LERIVO'},\n",
              " {'codigo': '178', 'nome': 'LIFAN'},\n",
              " {'codigo': '148', 'nome': 'Lon-V'},\n",
              " {'codigo': '175', 'nome': 'MAGRÃO TRICICLOS'},\n",
              " {'codigo': '146', 'nome': 'Malaguti'},\n",
              " {'codigo': '126', 'nome': 'MIZA'},\n",
              " {'codigo': '90', 'nome': 'MOTO GUZZI'},\n",
              " {'codigo': '201', 'nome': 'MOTOCAR'},\n",
              " {'codigo': '200', 'nome': 'MOTORINO'},\n",
              " {'codigo': '160', 'nome': 'MRX'},\n",
              " {'codigo': '91', 'nome': 'MV AGUSTA'},\n",
              " {'codigo': '92', 'nome': 'MVK'},\n",
              " {'codigo': '239', 'nome': 'NIU'},\n",
              " {'codigo': '93', 'nome': 'ORCA'},\n",
              " {'codigo': '164', 'nome': 'PEGASSI'},\n",
              " {'codigo': '94', 'nome': 'PEUGEOT'},\n",
              " {'codigo': '95', 'nome': 'PIAGGIO'},\n",
              " {'codigo': '210', 'nome': 'POLARIS'},\n",
              " {'codigo': '173', 'nome': 'REGAL RAPTOR'},\n",
              " {'codigo': '198', 'nome': 'RIGUETE'},\n",
              " {'codigo': '192', 'nome': 'Royal Enfield'},\n",
              " {'codigo': '96', 'nome': 'SANYANG'},\n",
              " {'codigo': '134', 'nome': 'SHINERAY'},\n",
              " {'codigo': '97', 'nome': 'SIAMOTO'},\n",
              " {'codigo': '98', 'nome': 'SUNDOWN'},\n",
              " {'codigo': '237', 'nome': 'SUPER SOCO'},\n",
              " {'codigo': '99', 'nome': 'SUZUKI'},\n",
              " {'codigo': '176', 'nome': 'TARGOS'},\n",
              " {'codigo': '187', 'nome': 'TIGER'},\n",
              " {'codigo': '119', 'nome': 'TRAXX'},\n",
              " {'codigo': '100', 'nome': 'TRIUMPH'},\n",
              " {'codigo': '180', 'nome': 'VENTO'},\n",
              " {'codigo': '215', 'nome': 'VOLTZ'},\n",
              " {'codigo': '135', 'nome': 'WUYANG'},\n",
              " {'codigo': '101', 'nome': 'YAMAHA'}]"
            ]
          },
          "metadata": {},
          "execution_count": 13
        }
      ]
    },
    {
      "cell_type": "code",
      "source": [
        "jsondata = json.loads(texto)\n",
        "\n",
        "Br = pd.DataFrame.from_dict(jsondata)\n",
        "\n",
        "Br.head()"
      ],
      "metadata": {
        "colab": {
          "base_uri": "https://localhost:8080/",
          "height": 206
        },
        "id": "SSxklWcD01LP",
        "outputId": "c07f249e-e11b-4842-d4af-83c3c10ba956"
      },
      "execution_count": 17,
      "outputs": [
        {
          "output_type": "execute_result",
          "data": {
            "text/plain": [
              "  codigo      nome\n",
              "0     60      ADLY\n",
              "1     61    AGRALE\n",
              "2    131  AMAZONAS\n",
              "3     62   APRILIA\n",
              "4     63     ATALA"
            ],
            "text/html": [
              "\n",
              "  <div id=\"df-f5313d0a-19d1-4883-93db-b8c8a1dd4017\">\n",
              "    <div class=\"colab-df-container\">\n",
              "      <div>\n",
              "<style scoped>\n",
              "    .dataframe tbody tr th:only-of-type {\n",
              "        vertical-align: middle;\n",
              "    }\n",
              "\n",
              "    .dataframe tbody tr th {\n",
              "        vertical-align: top;\n",
              "    }\n",
              "\n",
              "    .dataframe thead th {\n",
              "        text-align: right;\n",
              "    }\n",
              "</style>\n",
              "<table border=\"1\" class=\"dataframe\">\n",
              "  <thead>\n",
              "    <tr style=\"text-align: right;\">\n",
              "      <th></th>\n",
              "      <th>codigo</th>\n",
              "      <th>nome</th>\n",
              "    </tr>\n",
              "  </thead>\n",
              "  <tbody>\n",
              "    <tr>\n",
              "      <th>0</th>\n",
              "      <td>60</td>\n",
              "      <td>ADLY</td>\n",
              "    </tr>\n",
              "    <tr>\n",
              "      <th>1</th>\n",
              "      <td>61</td>\n",
              "      <td>AGRALE</td>\n",
              "    </tr>\n",
              "    <tr>\n",
              "      <th>2</th>\n",
              "      <td>131</td>\n",
              "      <td>AMAZONAS</td>\n",
              "    </tr>\n",
              "    <tr>\n",
              "      <th>3</th>\n",
              "      <td>62</td>\n",
              "      <td>APRILIA</td>\n",
              "    </tr>\n",
              "    <tr>\n",
              "      <th>4</th>\n",
              "      <td>63</td>\n",
              "      <td>ATALA</td>\n",
              "    </tr>\n",
              "  </tbody>\n",
              "</table>\n",
              "</div>\n",
              "      <button class=\"colab-df-convert\" onclick=\"convertToInteractive('df-f5313d0a-19d1-4883-93db-b8c8a1dd4017')\"\n",
              "              title=\"Convert this dataframe to an interactive table.\"\n",
              "              style=\"display:none;\">\n",
              "        \n",
              "  <svg xmlns=\"http://www.w3.org/2000/svg\" height=\"24px\"viewBox=\"0 0 24 24\"\n",
              "       width=\"24px\">\n",
              "    <path d=\"M0 0h24v24H0V0z\" fill=\"none\"/>\n",
              "    <path d=\"M18.56 5.44l.94 2.06.94-2.06 2.06-.94-2.06-.94-.94-2.06-.94 2.06-2.06.94zm-11 1L8.5 8.5l.94-2.06 2.06-.94-2.06-.94L8.5 2.5l-.94 2.06-2.06.94zm10 10l.94 2.06.94-2.06 2.06-.94-2.06-.94-.94-2.06-.94 2.06-2.06.94z\"/><path d=\"M17.41 7.96l-1.37-1.37c-.4-.4-.92-.59-1.43-.59-.52 0-1.04.2-1.43.59L10.3 9.45l-7.72 7.72c-.78.78-.78 2.05 0 2.83L4 21.41c.39.39.9.59 1.41.59.51 0 1.02-.2 1.41-.59l7.78-7.78 2.81-2.81c.8-.78.8-2.07 0-2.86zM5.41 20L4 18.59l7.72-7.72 1.47 1.35L5.41 20z\"/>\n",
              "  </svg>\n",
              "      </button>\n",
              "      \n",
              "  <style>\n",
              "    .colab-df-container {\n",
              "      display:flex;\n",
              "      flex-wrap:wrap;\n",
              "      gap: 12px;\n",
              "    }\n",
              "\n",
              "    .colab-df-convert {\n",
              "      background-color: #E8F0FE;\n",
              "      border: none;\n",
              "      border-radius: 50%;\n",
              "      cursor: pointer;\n",
              "      display: none;\n",
              "      fill: #1967D2;\n",
              "      height: 32px;\n",
              "      padding: 0 0 0 0;\n",
              "      width: 32px;\n",
              "    }\n",
              "\n",
              "    .colab-df-convert:hover {\n",
              "      background-color: #E2EBFA;\n",
              "      box-shadow: 0px 1px 2px rgba(60, 64, 67, 0.3), 0px 1px 3px 1px rgba(60, 64, 67, 0.15);\n",
              "      fill: #174EA6;\n",
              "    }\n",
              "\n",
              "    [theme=dark] .colab-df-convert {\n",
              "      background-color: #3B4455;\n",
              "      fill: #D2E3FC;\n",
              "    }\n",
              "\n",
              "    [theme=dark] .colab-df-convert:hover {\n",
              "      background-color: #434B5C;\n",
              "      box-shadow: 0px 1px 3px 1px rgba(0, 0, 0, 0.15);\n",
              "      filter: drop-shadow(0px 1px 2px rgba(0, 0, 0, 0.3));\n",
              "      fill: #FFFFFF;\n",
              "    }\n",
              "  </style>\n",
              "\n",
              "      <script>\n",
              "        const buttonEl =\n",
              "          document.querySelector('#df-f5313d0a-19d1-4883-93db-b8c8a1dd4017 button.colab-df-convert');\n",
              "        buttonEl.style.display =\n",
              "          google.colab.kernel.accessAllowed ? 'block' : 'none';\n",
              "\n",
              "        async function convertToInteractive(key) {\n",
              "          const element = document.querySelector('#df-f5313d0a-19d1-4883-93db-b8c8a1dd4017');\n",
              "          const dataTable =\n",
              "            await google.colab.kernel.invokeFunction('convertToInteractive',\n",
              "                                                     [key], {});\n",
              "          if (!dataTable) return;\n",
              "\n",
              "          const docLinkHtml = 'Like what you see? Visit the ' +\n",
              "            '<a target=\"_blank\" href=https://colab.research.google.com/notebooks/data_table.ipynb>data table notebook</a>'\n",
              "            + ' to learn more about interactive tables.';\n",
              "          element.innerHTML = '';\n",
              "          dataTable['output_type'] = 'display_data';\n",
              "          await google.colab.output.renderOutput(dataTable, element);\n",
              "          const docLink = document.createElement('div');\n",
              "          docLink.innerHTML = docLinkHtml;\n",
              "          element.appendChild(docLink);\n",
              "        }\n",
              "      </script>\n",
              "    </div>\n",
              "  </div>\n",
              "  "
            ]
          },
          "metadata": {},
          "execution_count": 17
        }
      ]
    }
  ]
}